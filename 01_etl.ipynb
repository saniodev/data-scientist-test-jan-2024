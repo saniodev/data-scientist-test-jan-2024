{
 "cells": [
  {
   "cell_type": "code",
   "execution_count": 9,
   "metadata": {
    "ExecuteTime": {
     "end_time": "2024-01-06T21:27:06.696362400Z",
     "start_time": "2024-01-06T21:27:06.586834300Z"
    }
   },
   "outputs": [
    {
     "data": {
      "text/plain": "'\\n    Instruções:\\n        [v]- Download dos dados municipais do estado de Minas Gerais;\\n        [v]- Transformação dos dados de desmatamento;\\n        [v] Processamento dos dados:\\n            -reprojeção para EPSG:31983;\\n            -cálculo de área;\\n        [v] Geração dos arquivos de saída no formato GeoJSON;\\n'"
     },
     "execution_count": 9,
     "metadata": {},
     "output_type": "execute_result"
    }
   ],
   "source": [
    "\"\"\"\n",
    "    Instruções:\n",
    "        [v]- Download dos dados municipais do estado de Minas Gerais;\n",
    "        [v]- Transformação dos dados de desmatamento;\n",
    "        [v] Processamento dos dados:\n",
    "            -reprojeção para EPSG:31983;\n",
    "            -cálculo de área;\n",
    "        [v] Geração dos arquivos de saída no formato GeoJSON;\n",
    "\"\"\""
   ]
  },
  {
   "cell_type": "code",
   "execution_count": 1,
   "metadata": {
    "collapsed": false,
    "ExecuteTime": {
     "end_time": "2024-01-08T07:20:32.434266700Z",
     "start_time": "2024-01-08T07:20:18.381044800Z"
    }
   },
   "outputs": [
    {
     "name": "stdout",
     "output_type": "stream",
     "text": [
      "Dados combinados e salvos com sucesso!\n"
     ]
    }
   ],
   "source": [
    "import geopandas as gpd\n",
    "import pandas as pd\n",
    "import requests\n",
    "from bs4 import BeautifulSoup\n",
    "\n",
    "def obter_municipios_geojson(url, output_file):\n",
    "    municipios = gpd.read_file(url)\n",
    "    municipios = municipios.to_crs(epsg=31983)\n",
    "    municipios[\"area_km2\"] = municipios['geometry'].area / 10**6\n",
    "    municipios.to_file(output_file, driver=\"GeoJSON\")\n",
    "\n",
    "def obter_dados_wikipedia(url):\n",
    "    response = requests.get(url)\n",
    "    if response.status_code == 200:\n",
    "        soup = BeautifulSoup(response.text, 'html.parser')\n",
    "        tabela = soup.find('table')\n",
    "        dados = pd.read_html(str(tabela), flavor='html5lib')[0]\n",
    "        return dados\n",
    "    else:\n",
    "        print(f\"Falha na requisição. Status code: {response.status_code}\")\n",
    "        return None\n",
    "\n",
    "def combinar_dados(dados_geojson, dados1, dados2, output_file):\n",
    "    dados1.columns = ['Posição', 'Município', 'Produto Interno Bruto Nominal (2020)', 'PIB Per Capita (2020)']\n",
    "    dados2.columns = ['Posição', 'Município', 'População']\n",
    "\n",
    "    dados_combinados = pd.merge(dados_geojson, dados1, left_on='name', right_on='Município', how='left')\n",
    "    dados_combinados = pd.merge(dados_combinados, dados2, on='Município', how='left')\n",
    "\n",
    "    dados_combinados.to_csv(output_file, index=False)\n",
    "    print(\"Dados combinados e salvos com sucesso!\")\n",
    "\n",
    "url_geojson_municipios = \"https://raw.githubusercontent.com/tbrugz/geodata-br/master/geojson/geojs-31-mun.json\"\n",
    "output_geojson_municipios = \"dados/municipios-mg.geojson\"\n",
    "url_pib = \"https://pt.wikipedia.org/wiki/Lista_de_munic%C3%ADpios_de_Minas_Gerais_por_PIB\"\n",
    "url_populacao = \"https://pt.wikipedia.org/wiki/Lista_de_munic%C3%ADpios_de_Minas_Gerais_por_popula%C3%A7%C3%A3o\"\n",
    "output_csv_combinado = \"dados/populacao_pib_municipios_mg.csv\"\n",
    "\n",
    "obter_municipios_geojson(url_geojson_municipios, output_geojson_municipios)\n",
    "dados_pib = obter_dados_wikipedia(url_pib)\n",
    "dados_populacao = obter_dados_wikipedia(url_populacao)\n",
    "\n",
    "municipios_geojson = gpd.read_file(output_geojson_municipios)\n",
    "\n",
    "if dados_pib is not None and dados_populacao is not None:\n",
    "    combinar_dados(municipios_geojson, dados_pib, dados_populacao, output_csv_combinado)\n"
   ]
  },
  {
   "cell_type": "code",
   "execution_count": 2,
   "metadata": {
    "collapsed": false,
    "ExecuteTime": {
     "end_time": "2024-01-08T07:20:34.981129400Z",
     "start_time": "2024-01-08T07:20:34.835523800Z"
    }
   },
   "outputs": [
    {
     "name": "stdout",
     "output_type": "stream",
     "text": [
      "Dados de focos de desmatamento salvos em dados/populacao_pib_municipios_mg_ordenado.csv\n"
     ]
    }
   ],
   "source": [
    "import pandas as pd\n",
    "import seaborn as sns\n",
    "\n",
    "def load_and_clean_dataset(file_path):\n",
    "    dataset = pd.read_csv(file_path, sep=\",\")\n",
    "    dataset.columns = [\"municipio_id\", \"nome_municipio\", \"descricao\", \"area_km2\", \"geometria\", \"pos_x\", \"municipio\", \"pib_nominal\", \"pib_capita\", \"pos_y\", \"populacao\"]\n",
    "\n",
    "    colunas_interesse = [\"geometria\", \"pos_x\", \"municipio\", \"pib_nominal\", \"pib_capita\", \"pos_y\", \"populacao\"]\n",
    "    dataset_sem_nulos = dataset.dropna(subset=colunas_interesse)\n",
    "\n",
    "    colunas_remover = [\"municipio\", \"descricao\", \"pos_x\", \"pos_y\"]\n",
    "    novo_dataset = dataset_sem_nulos.drop(columns=colunas_remover)\n",
    "    return novo_dataset\n",
    "\n",
    "def verifica_dados_repetidos(dados, coluna):\n",
    "    agrupado = dados.groupby([coluna]).size()\n",
    "    return agrupado\n",
    "\n",
    "def ordenar_e_resetar_indice(dados):\n",
    "    if \"id\" in dados.columns:\n",
    "        dados = dados.sort_values(by='id') \n",
    "        # dados.reset_index(drop=True, inplace=True)\n",
    "        return dados\n",
    "    else:\n",
    "        # dados.reset_index(drop=True, inplace=True)\n",
    "        return dados\n",
    "\n",
    "\n",
    "def main(db_pop, db_pop_ord):\n",
    "    dataset_sem_nulos = load_and_clean_dataset(db_pop)\n",
    "\n",
    "    dataset_ordenado = ordenar_e_resetar_indice(dataset_sem_nulos)\n",
    "\n",
    "    dataset_ordenado.to_csv(db_pop_ord, index=False)\n",
    "\n",
    "    print(f\"Dados de focos de desmatamento salvos em {db_pop_ord}\")\n",
    "\n",
    "if __name__ == \"__main__\":\n",
    "    output_pop = \"dados/populacao_pib_municipios_mg.csv\"\n",
    "    output_pop_ord = \"dados/populacao_pib_municipios_mg_ordenado.csv\"\n",
    "    \n",
    "    main(output_pop, output_pop_ord)\n"
   ]
  },
  {
   "cell_type": "code",
   "execution_count": 3,
   "outputs": [
    {
     "name": "stdout",
     "output_type": "stream",
     "text": [
      "Dados de focos de desmatamento salvos em dados/focos-desmatamento-mg.geojson\n"
     ]
    }
   ],
   "source": [
    "import geopandas as gpd\n",
    "import pandas as pd\n",
    "from pyproj import CRS, Transformer\n",
    "\n",
    "def carregar_focos_desmatamento(file_path):\n",
    "    return gpd.read_file(file_path)\n",
    "\n",
    "def concatenar_e_transformar_geometria(gdf_list, crs_target):\n",
    "    gdf_combined = gpd.GeoDataFrame(pd.concat(gdf_list, ignore_index=True), geometry=\"geometry\")\n",
    "    gdf_combined.crs = gdf_list[0].crs\n",
    "    gdf_combined = gdf_combined.to_crs(crs_target)\n",
    "    return gdf_combined\n",
    "\n",
    "def salvar_geodataframe_como_geojson(gdf, output_path):\n",
    "    gdf.to_file(output_path, driver=\"GeoJSON\")\n",
    "\n",
    "def main(file_aug, file_set, output_geojson):\n",
    "    gdf_aug = carregar_focos_desmatamento(file_aug)\n",
    "    gdf_set = carregar_focos_desmatamento(file_set)\n",
    "    gdf_combined = concatenar_e_transformar_geometria([gdf_aug, gdf_set], crs_target=\"EPSG:31983\")\n",
    "    \n",
    "    salvar_geodataframe_como_geojson(gdf_combined, output_geojson)\n",
    "\n",
    "    print(f\"Dados de focos de desmatamento salvos em {output_geojson}\")\n",
    "\n",
    "if __name__ == \"__main__\":\n",
    "    file_aug = \"dados/desmatamento_ago22.gpkg\"\n",
    "    file_set = \"dados/desmatamento_set22.gpkg\"\n",
    "    output_geojson = \"dados/focos-desmatamento-mg.geojson\"\n",
    "    main(file_aug, file_set, output_geojson)\n"
   ],
   "metadata": {
    "collapsed": false,
    "ExecuteTime": {
     "end_time": "2024-01-08T07:20:41.351543100Z",
     "start_time": "2024-01-08T07:20:38.322128400Z"
    }
   }
  }
 ],
 "metadata": {
  "kernelspec": {
   "display_name": "Python 3 (ipykernel)",
   "language": "python",
   "name": "python3"
  },
  "language_info": {
   "codemirror_mode": {
    "name": "ipython",
    "version": 3
   },
   "file_extension": ".py",
   "mimetype": "text/x-python",
   "name": "python",
   "nbconvert_exporter": "python",
   "pygments_lexer": "ipython3",
   "version": "3.9.13"
  }
 },
 "nbformat": 4,
 "nbformat_minor": 4
}
