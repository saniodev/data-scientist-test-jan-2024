{
 "cells": [
  {
   "cell_type": "code",
   "execution_count": null,
   "metadata": {
    "is_executing": true
   },
   "outputs": [],
   "source": [
    "\"\"\"\n",
    "    Instruções:\n",
    "        [v]- Download dos dados municipais do estado de Minas Gerais;\n",
    "        [v]- Transformação dos dados de desmatamento;\n",
    "        [v] Processamento dos dados:\n",
    "            -reprojeção para EPSG:31983;\n",
    "            -cálculo de área;\n",
    "        [v] Geração dos arquivos de saída no formato GeoJSON;\n",
    "\"\"\""
   ]
  },
  {
   "cell_type": "code",
   "execution_count": 2,
   "outputs": [
    {
     "name": "stdout",
     "output_type": "stream",
     "text": [
      "Dados combinados e salvos com sucesso!\n"
     ]
    }
   ],
   "source": [
    "import geopandas as gpd\n",
    "import pandas as pd\n",
    "import requests\n",
    "from bs4 import BeautifulSoup\n",
    "\n",
    "def obter_municipios_geojson(url, output_file):\n",
    "    municipios = gpd.read_file(url)\n",
    "    municipios = municipios.to_crs(epsg=31983)\n",
    "    municipios[\"area_km2\"] = municipios['geometry'].area / 10**6\n",
    "    municipios.to_file(output_file, driver=\"GeoJSON\")\n",
    "\n",
    "def obter_dados_wikipedia(url):\n",
    "    response = requests.get(url)\n",
    "    if response.status_code == 200:\n",
    "        soup = BeautifulSoup(response.text, 'html.parser')\n",
    "        tabela = soup.find('table')\n",
    "        dados = pd.read_html(str(tabela), flavor='html5lib')[0]\n",
    "        return dados\n",
    "    else:\n",
    "        print(f\"Falha na requisição. Status code: {response.status_code}\")\n",
    "        return None\n",
    "\n",
    "def combinar_dados(dados_geojson, dados1, dados2, output_file):\n",
    "    dados1.columns = ['Posição', 'Município', 'Produto Interno Bruto Nominal (2020)', 'PIB Per Capita (2020)']\n",
    "    dados2.columns = ['Posição', 'Município', 'População']\n",
    "\n",
    "    dados_combinados = pd.merge(dados_geojson, dados1, left_on='name', right_on='Município', how='left')\n",
    "    dados_combinados = pd.merge(dados_combinados, dados2, on='Município', how='left')\n",
    "\n",
    "    dados_combinados.to_csv(output_file, index=False)\n",
    "    print(\"Dados combinados e salvos com sucesso!\")\n",
    "\n",
    "url_geojson_municipios = \"https://raw.githubusercontent.com/tbrugz/geodata-br/master/geojson/geojs-31-mun.json\"\n",
    "output_geojson_municipios = \"dados/municipios-mg.geojson\"\n",
    "url_pib = \"https://pt.wikipedia.org/wiki/Lista_de_munic%C3%ADpios_de_Minas_Gerais_por_PIB\"\n",
    "url_populacao = \"https://pt.wikipedia.org/wiki/Lista_de_munic%C3%ADpios_de_Minas_Gerais_por_popula%C3%A7%C3%A3o\"\n",
    "output_csv_combinado = \"dados/populacao_pib_municipios_mg.csv\"\n",
    "\n",
    "obter_municipios_geojson(url_geojson_municipios, output_geojson_municipios)\n",
    "dados_pib = obter_dados_wikipedia(url_pib)\n",
    "dados_populacao = obter_dados_wikipedia(url_populacao)\n",
    "\n",
    "municipios_geojson = gpd.read_file(output_geojson_municipios)\n",
    "\n",
    "if dados_pib is not None and dados_populacao is not None:\n",
    "    combinar_dados(municipios_geojson, dados_pib, dados_populacao, output_csv_combinado)\n"
   ],
   "metadata": {
    "collapsed": false,
    "ExecuteTime": {
     "end_time": "2024-01-06T17:14:31.602493600Z",
     "start_time": "2024-01-06T17:14:20.016278100Z"
    }
   }
  }
 ],
 "metadata": {
  "language_info": {
   "name": "python"
  },
  "kernelspec": {
   "name": "python3",
   "language": "python",
   "display_name": "Python 3 (ipykernel)"
  }
 },
 "nbformat": 4,
 "nbformat_minor": 2
}
