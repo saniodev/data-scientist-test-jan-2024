{
 "cells": [
  {
   "cell_type": "code",
   "execution_count": null,
   "metadata": {},
   "outputs": [],
   "source": [
    "\"\"\"\n",
    "    Instruções:\n",
    "        1- Responda as perguntas listadas no README.md;\n",
    "        2- Faça as análises que julgar necessárias e deixe os resultados de suas análises plotadas no notebook.\n",
    "\"\"\""
   ]
  },
  {
   "cell_type": "code",
   "execution_count": 93,
   "metadata": {
    "ExecuteTime": {
     "end_time": "2024-01-07T05:34:22.897939200Z",
     "start_time": "2024-01-07T05:34:20.291626100Z"
    },
    "collapsed": false
   },
   "outputs": [
    {
     "name": "stdout",
     "output_type": "stream",
     "text": [
      "Arquivo CSV salvo em: dados/pib.csv\n",
      "Arquivo CSV salvo em: dados/ago_set.csv\n"
     ]
    }
   ],
   "source": [
    "import geopandas as gpd\n",
    "from datetime import datetime\n",
    "\n",
    "def load_dataframes(populacao_pib_path, focos_desmatamento_path):\n",
    "    gdf_populacao_pib = gpd.read_file(populacao_pib_path)\n",
    "    gdf_focos_desmatamento = gpd.read_file(focos_desmatamento_path)\n",
    "\n",
    "    gdf_focos_desmatamento = gdf_focos_desmatamento.to_crs(\"EPSG:31983\")\n",
    "    gdf_populacao_pib.crs = \"EPSG:31983\"\n",
    "\n",
    "    return gdf_populacao_pib, gdf_focos_desmatamento\n",
    "\n",
    "def extract_month(data):\n",
    "    if data is not None:\n",
    "        try:\n",
    "            return datetime.strptime(data, '%d/%m/%Y').strftime('%b').lower()\n",
    "        except ValueError:\n",
    "            return None\n",
    "    else:\n",
    "        return None\n",
    "\n",
    "def preprocess_dataframes(gdf_populacao_pib, gdf_focos_desmatamento):\n",
    "    gdf_focos_desmatamento['mes'] = gdf_focos_desmatamento['Data Final'].apply(extract_month)\n",
    "\n",
    "    gdf_populacao_pib = gdf_populacao_pib.drop(columns=[\"geometry\"])\n",
    "\n",
    "    return gdf_populacao_pib, gdf_focos_desmatamento\n",
    "\n",
    "def save_to_csv(dataframe, output_csv_path):\n",
    "    dataframe.to_csv(output_csv_path, index=False)\n",
    "    print(f\"Arquivo CSV salvo em: {output_csv_path}\")\n",
    "\n",
    "populacao_pib_path = \"dados/populacao_pib_municipios_mg_ordenado.csv\"\n",
    "focos_desmatamento_path = \"dados/focos-desmatamento-mg.geojson\"\n",
    "output_csv_path_pib = \"dados/pib.csv\"\n",
    "output_csv_path_agoset = \"dados/ago_set.csv\"\n",
    "\n",
    "gdf_populacao_pib, gdf_focos_desmatamento = load_dataframes(populacao_pib_path, focos_desmatamento_path)\n",
    "\n",
    "gdf_populacao_pib, gdf_focos_desmatamento = preprocess_dataframes(gdf_populacao_pib, gdf_focos_desmatamento)\n",
    "\n",
    "gdf_agoset_check = gdf_focos_desmatamento[(gdf_focos_desmatamento['mes'] != 'jun') & (gdf_focos_desmatamento['mes'] != 'jul')]\n",
    "\n",
    "save_to_csv(gdf_populacao_pib, output_csv_path_pib)\n",
    "save_to_csv(gdf_agoset_check, output_csv_path_agoset)\n"
   ]
  },
  {
   "cell_type": "code",
   "execution_count": 119,
   "metadata": {
    "ExecuteTime": {
     "end_time": "2024-01-07T05:55:59.159954600Z",
     "start_time": "2024-01-07T05:55:59.057060400Z"
    },
    "collapsed": false
   },
   "outputs": [
    {
     "data": {
      "text/html": [
       "<div>\n",
       "<style scoped>\n",
       "    .dataframe tbody tr th:only-of-type {\n",
       "        vertical-align: middle;\n",
       "    }\n",
       "\n",
       "    .dataframe tbody tr th {\n",
       "        vertical-align: top;\n",
       "    }\n",
       "\n",
       "    .dataframe thead th {\n",
       "        text-align: right;\n",
       "    }\n",
       "</style>\n",
       "<table border=\"1\" class=\"dataframe\">\n",
       "  <thead>\n",
       "    <tr style=\"text-align: right;\">\n",
       "      <th></th>\n",
       "      <th>id_x</th>\n",
       "      <th>nome_municipio</th>\n",
       "      <th>municipio_id</th>\n",
       "      <th>populacao</th>\n",
       "      <th>area_km2</th>\n",
       "      <th>pib_nominal</th>\n",
       "      <th>pib_capita</th>\n",
       "      <th>geometria</th>\n",
       "      <th>ogc_fid</th>\n",
       "      <th>id_y</th>\n",
       "      <th>...</th>\n",
       "      <th>Data Inicial</th>\n",
       "      <th>Data Final</th>\n",
       "      <th>Cena</th>\n",
       "      <th>Score</th>\n",
       "      <th>Data Processamento</th>\n",
       "      <th>Bioma</th>\n",
       "      <th>NuFis</th>\n",
       "      <th>Cia PM</th>\n",
       "      <th>geometry</th>\n",
       "      <th>mes</th>\n",
       "    </tr>\n",
       "  </thead>\n",
       "  <tbody>\n",
       "  </tbody>\n",
       "</table>\n",
       "<p>0 rows × 21 columns</p>\n",
       "</div>"
      ],
      "text/plain": [
       "Empty DataFrame\n",
       "Columns: [id_x, nome_municipio, municipio_id, populacao, area_km2, pib_nominal, pib_capita, geometria, ogc_fid, id_y, Instância, Data Inicial, Data Final, Cena, Score, Data Processamento, Bioma, NuFis, Cia PM, geometry, mes]\n",
       "Index: []\n",
       "\n",
       "[0 rows x 21 columns]"
      ]
     },
     "execution_count": 119,
     "metadata": {},
     "output_type": "execute_result"
    }
   ],
   "source": [
    "import pandas as pd\n",
    "\n",
    "gdf_pib = pd.read_csv('dados/pib.csv')\n",
    "gdf_agoset = pd.read_csv('dados/ago_set.csv')\n",
    "\n",
    "coluna_juncao_pib = ['geometria']\n",
    "coluna_juncao_agoset = ['geometry']\n",
    "\n",
    "\n",
    "gdf_joined = pd.merge(gdf_pib, gdf_agoset, left_on=coluna_juncao_pib, right_on=coluna_juncao_agoset, how='inner')\n",
    "\n",
    "\n",
    "gdf_joined"
   ]
  }
 ],
 "metadata": {
  "kernelspec": {
   "display_name": "Python 3",
   "language": "python",
   "name": "python3"
  },
  "language_info": {
   "codemirror_mode": {
    "name": "ipython",
    "version": 3
   },
   "file_extension": ".py",
   "mimetype": "text/x-python",
   "name": "python",
   "nbconvert_exporter": "python",
   "pygments_lexer": "ipython3",
   "version": "3.11.4"
  }
 },
 "nbformat": 4,
 "nbformat_minor": 2
}
